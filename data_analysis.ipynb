{
 "cells": [
  {
   "cell_type": "markdown",
   "metadata": {},
   "source": [
    "# SCRAPPED DATA ANALYSIS"
   ]
  },
  {
   "cell_type": "markdown",
   "metadata": {},
   "source": [
    "# TOOLBOX"
   ]
  },
  {
   "cell_type": "code",
   "execution_count": 18,
   "metadata": {},
   "outputs": [],
   "source": [
    "import pandas as pd # data loading \n",
    "import re # regex\n",
    "import seaborn as sns"
   ]
  },
  {
   "cell_type": "markdown",
   "metadata": {},
   "source": [
    "# Exploratory Data Analysis"
   ]
  },
  {
   "cell_type": "code",
   "execution_count": 19,
   "metadata": {},
   "outputs": [],
   "source": [
    "# import data\n",
    "df_houses = pd.read_csv(\"houses.csv\")"
   ]
  },
  {
   "cell_type": "code",
   "execution_count": 20,
   "metadata": {},
   "outputs": [
    {
     "data": {
      "text/html": [
       "<div>\n",
       "<style scoped>\n",
       "    .dataframe tbody tr th:only-of-type {\n",
       "        vertical-align: middle;\n",
       "    }\n",
       "\n",
       "    .dataframe tbody tr th {\n",
       "        vertical-align: top;\n",
       "    }\n",
       "\n",
       "    .dataframe thead th {\n",
       "        text-align: right;\n",
       "    }\n",
       "</style>\n",
       "<table border=\"1\" class=\"dataframe\">\n",
       "  <thead>\n",
       "    <tr style=\"text-align: right;\">\n",
       "      <th></th>\n",
       "      <th>title</th>\n",
       "      <th>Location</th>\n",
       "      <th>details</th>\n",
       "      <th>Price</th>\n",
       "      <th>Description</th>\n",
       "    </tr>\n",
       "  </thead>\n",
       "  <tbody>\n",
       "    <tr>\n",
       "      <th>0</th>\n",
       "      <td>\\n4 bedroom townhouse for sale in Ruiru\\n,\\nBr...</td>\n",
       "      <td>\\nKenyatta Road, Ruiru, Ruiru\\n</td>\n",
       "      <td>\\n4\\n</td>\n",
       "      <td>\\nKSh 11,550,000\\n</td>\n",
       "      <td>\\nBreathtaking modern Maisonettes and Bungalow...</td>\n",
       "    </tr>\n",
       "    <tr>\n",
       "      <th>1</th>\n",
       "      <td>\\n3 bedroom house for sale in Ongata Rongai\\n,...</td>\n",
       "      <td>\\nOngata Rongai, Kajiado North\\n</td>\n",
       "      <td>\\n2500 m²\\n,\\n3\\n</td>\n",
       "      <td>\\nKSh 6,000,000\\n</td>\n",
       "      <td>\\nVery Beautiful 3 BR houses in Ongata Rongai\\...</td>\n",
       "    </tr>\n",
       "    <tr>\n",
       "      <th>2</th>\n",
       "      <td>\\n5 bedroom townhouse for sale in Lavington\\n,...</td>\n",
       "      <td>\\nLavington, Dagoretti North\\n</td>\n",
       "      <td>\\n5\\n</td>\n",
       "      <td>\\nKSh 53,000,000\\n</td>\n",
       "      <td>\\nMasterful Design! Lavington Five Bedroom Tow...</td>\n",
       "    </tr>\n",
       "    <tr>\n",
       "      <th>3</th>\n",
       "      <td>\\n4 bedroom house for sale in Runda\\n,\\nBeauti...</td>\n",
       "      <td>\\nRunda, Westlands\\n</td>\n",
       "      <td>\\n4\\n</td>\n",
       "      <td>\\nKSh 92,000,000\\n</td>\n",
       "      <td>\\nBeautiful and specious four bedroom Stand-al...</td>\n",
       "    </tr>\n",
       "    <tr>\n",
       "      <th>4</th>\n",
       "      <td>\\n4 bedroom house for sale in Syokimau\\n,\\nMag...</td>\n",
       "      <td>\\n N/A, N/A, Syokimau, Athi River\\n</td>\n",
       "      <td>\\n3600 ft²\\n,\\n4\\n</td>\n",
       "      <td>\\nKSh 39,500,000\\n</td>\n",
       "      <td>\\nMagnificently modern custom 5br house on sal...</td>\n",
       "    </tr>\n",
       "  </tbody>\n",
       "</table>\n",
       "</div>"
      ],
      "text/plain": [
       "                                               title  \\\n",
       "0  \\n4 bedroom townhouse for sale in Ruiru\\n,\\nBr...   \n",
       "1  \\n3 bedroom house for sale in Ongata Rongai\\n,...   \n",
       "2  \\n5 bedroom townhouse for sale in Lavington\\n,...   \n",
       "3  \\n4 bedroom house for sale in Runda\\n,\\nBeauti...   \n",
       "4  \\n4 bedroom house for sale in Syokimau\\n,\\nMag...   \n",
       "\n",
       "                              Location             details  \\\n",
       "0      \\nKenyatta Road, Ruiru, Ruiru\\n               \\n4\\n   \n",
       "1     \\nOngata Rongai, Kajiado North\\n   \\n2500 m²\\n,\\n3\\n   \n",
       "2       \\nLavington, Dagoretti North\\n               \\n5\\n   \n",
       "3                 \\nRunda, Westlands\\n               \\n4\\n   \n",
       "4  \\n N/A, N/A, Syokimau, Athi River\\n  \\n3600 ft²\\n,\\n4\\n   \n",
       "\n",
       "                Price                                        Description  \n",
       "0  \\nKSh 11,550,000\\n  \\nBreathtaking modern Maisonettes and Bungalow...  \n",
       "1   \\nKSh 6,000,000\\n  \\nVery Beautiful 3 BR houses in Ongata Rongai\\...  \n",
       "2  \\nKSh 53,000,000\\n  \\nMasterful Design! Lavington Five Bedroom Tow...  \n",
       "3  \\nKSh 92,000,000\\n  \\nBeautiful and specious four bedroom Stand-al...  \n",
       "4  \\nKSh 39,500,000\\n  \\nMagnificently modern custom 5br house on sal...  "
      ]
     },
     "execution_count": 20,
     "metadata": {},
     "output_type": "execute_result"
    }
   ],
   "source": [
    "df_houses.head()"
   ]
  },
  {
   "cell_type": "code",
   "execution_count": 21,
   "metadata": {},
   "outputs": [],
   "source": [
    "df = df_houses.copy()"
   ]
  },
  {
   "cell_type": "code",
   "execution_count": 22,
   "metadata": {},
   "outputs": [
    {
     "name": "stdout",
     "output_type": "stream",
     "text": [
      "['4', 'bedroom', 'townhouse', 'for', 'sale', 'in', 'Ruiru', ',', 'Breathtaking', 'modern', 'Maisonettes', 'and', 'Bungalows', 'f', '...']\n",
      "['3', 'bedroom', 'house', 'for', 'sale', 'in', 'Ongata', 'Rongai', ',', 'Very', 'Beautiful', '3', 'BR', 'houses', 'in', 'Ongata', 'Rongai']\n",
      "['5', 'bedroom', 'townhouse', 'for', 'sale', 'in', 'Lavington', ',', 'Masterful', 'Design!', 'Lavington', 'Five', 'Bedroom', 'Townho', '...']\n"
     ]
    }
   ],
   "source": [
    "# View what you have \n",
    "for i in df['title'][:3].values:\n",
    "    print(i.split())"
   ]
  },
  {
   "cell_type": "code",
   "execution_count": 23,
   "metadata": {},
   "outputs": [
    {
     "name": "stdout",
     "output_type": "stream",
     "text": [
      "['Kenyatta', 'Road,', 'Ruiru,', 'Ruiru']\n",
      "['Ongata', 'Rongai,', 'Kajiado', 'North']\n",
      "['Lavington,', 'Dagoretti', 'North']\n"
     ]
    }
   ],
   "source": [
    "for i in df['Location'][:3].values:\n",
    "    print(i.split())"
   ]
  },
  {
   "cell_type": "code",
   "execution_count": 24,
   "metadata": {},
   "outputs": [
    {
     "name": "stdout",
     "output_type": "stream",
     "text": [
      "['KSh', '11,550,000']\n",
      "['KSh', '6,000,000']\n",
      "['KSh', '53,000,000']\n"
     ]
    }
   ],
   "source": [
    "for i in df['Price'][:3].values:\n",
    "    print(i.split())\n"
   ]
  },
  {
   "cell_type": "code",
   "execution_count": 25,
   "metadata": {},
   "outputs": [
    {
     "name": "stdout",
     "output_type": "stream",
     "text": [
      "['4']\n",
      "['2500', 'm²', ',', '3']\n",
      "['5']\n",
      "['4']\n",
      "['3600', 'ft²', ',', '4']\n",
      "['3']\n",
      "['5']\n",
      "['4']\n",
      "['2000', 'm²', ',', '2']\n",
      "['5']\n"
     ]
    }
   ],
   "source": [
    "# View what you have \n",
    "for i in df['details'][:10].values:\n",
    "    print(i.split())"
   ]
  },
  {
   "cell_type": "code",
   "execution_count": 26,
   "metadata": {},
   "outputs": [
    {
     "name": "stdout",
     "output_type": "stream",
     "text": [
      "['Breathtaking', 'modern', 'Maisonettes', 'and', 'Bungalows', 'f...', ',', '4', 'bedroom', 'townhouse', 'for', 'sale', 'in', 'Ruiru']\n",
      "['Very', 'Beautiful', '3', 'BR', 'houses', 'in', 'Ongata', 'Rongai', ',', '3', 'bedroom', 'house', 'for', 'sale', 'in', 'Ongata', 'Rongai']\n",
      "['Masterful', 'Design!', 'Lavington', 'Five', 'Bedroom', 'Townho...', ',', '5', 'bedroom', 'townhouse', 'for', 'sale', 'in', 'Lavington']\n"
     ]
    }
   ],
   "source": [
    "for i in df['Description'][:3].values:\n",
    "    print(i.split())"
   ]
  },
  {
   "cell_type": "markdown",
   "metadata": {},
   "source": [
    "# Data Cleaning"
   ]
  },
  {
   "cell_type": "code",
   "execution_count": 27,
   "metadata": {},
   "outputs": [],
   "source": [
    "# Data cleaning\n",
    "\n",
    "# --------- replace \n",
    "df.replace(to_replace=[r\"\\\\t|\\\\n|\\\\r\", \"\\t|\\n|\\r\"], value=[\"\",\"\"], regex=True, inplace=True)"
   ]
  },
  {
   "cell_type": "code",
   "execution_count": 28,
   "metadata": {},
   "outputs": [],
   "source": [
    "# Remove Ksh, and commas in text\n",
    "\n",
    "df['Price'] = df['Price'].str.replace('KSh','')\n",
    "df['Price'] = df['Price'].str.replace(',','')"
   ]
  },
  {
   "cell_type": "code",
   "execution_count": 29,
   "metadata": {},
   "outputs": [],
   "source": [
    "# Filter only houses in m and ft\n",
    "df1 = df[~df['details'].str.contains('m')]\n",
    "df2= df1[~df1['details'].str.contains('ft')]"
   ]
  },
  {
   "cell_type": "code",
   "execution_count": 30,
   "metadata": {},
   "outputs": [
    {
     "name": "stderr",
     "output_type": "stream",
     "text": [
      "C:\\Users\\munya\\AppData\\Local\\Temp\\ipykernel_6848\\843814918.py:2: SettingWithCopyWarning: \n",
      "A value is trying to be set on a copy of a slice from a DataFrame.\n",
      "Try using .loc[row_indexer,col_indexer] = value instead\n",
      "\n",
      "See the caveats in the documentation: https://pandas.pydata.org/pandas-docs/stable/user_guide/indexing.html#returning-a-view-versus-a-copy\n",
      "  df2['Bedrooms'] = df2['details']\n"
     ]
    }
   ],
   "source": [
    "# Create a new column of bedrooms from details.\n",
    "df2['Bedrooms'] = df2['details']"
   ]
  },
  {
   "cell_type": "code",
   "execution_count": 31,
   "metadata": {},
   "outputs": [
    {
     "data": {
      "text/html": [
       "<div>\n",
       "<style scoped>\n",
       "    .dataframe tbody tr th:only-of-type {\n",
       "        vertical-align: middle;\n",
       "    }\n",
       "\n",
       "    .dataframe tbody tr th {\n",
       "        vertical-align: top;\n",
       "    }\n",
       "\n",
       "    .dataframe thead th {\n",
       "        text-align: right;\n",
       "    }\n",
       "</style>\n",
       "<table border=\"1\" class=\"dataframe\">\n",
       "  <thead>\n",
       "    <tr style=\"text-align: right;\">\n",
       "      <th></th>\n",
       "      <th>title</th>\n",
       "      <th>Location</th>\n",
       "      <th>details</th>\n",
       "      <th>Price</th>\n",
       "      <th>Description</th>\n",
       "      <th>Bedrooms</th>\n",
       "    </tr>\n",
       "  </thead>\n",
       "  <tbody>\n",
       "    <tr>\n",
       "      <th>0</th>\n",
       "      <td>4 bedroom townhouse for sale in Ruiru,Breathta...</td>\n",
       "      <td>Kenyatta Road, Ruiru, Ruiru</td>\n",
       "      <td>4</td>\n",
       "      <td>11550000</td>\n",
       "      <td>Breathtaking modern Maisonettes and Bungalows ...</td>\n",
       "      <td>4</td>\n",
       "    </tr>\n",
       "    <tr>\n",
       "      <th>2</th>\n",
       "      <td>5 bedroom townhouse for sale in Lavington,Mast...</td>\n",
       "      <td>Lavington, Dagoretti North</td>\n",
       "      <td>5</td>\n",
       "      <td>53000000</td>\n",
       "      <td>Masterful Design! Lavington Five Bedroom Townh...</td>\n",
       "      <td>5</td>\n",
       "    </tr>\n",
       "    <tr>\n",
       "      <th>3</th>\n",
       "      <td>4 bedroom house for sale in Runda,Beautiful an...</td>\n",
       "      <td>Runda, Westlands</td>\n",
       "      <td>4</td>\n",
       "      <td>92000000</td>\n",
       "      <td>Beautiful and specious four bedroom Stand-alon...</td>\n",
       "      <td>4</td>\n",
       "    </tr>\n",
       "    <tr>\n",
       "      <th>5</th>\n",
       "      <td>3 bedroom townhouse for sale in Gikambura,Thre...</td>\n",
       "      <td>Gikambura, Kikuyu</td>\n",
       "      <td>3</td>\n",
       "      <td>9000000</td>\n",
       "      <td>Three Bedroom All En Suite,3 bedroom townhouse...</td>\n",
       "      <td>3</td>\n",
       "    </tr>\n",
       "    <tr>\n",
       "      <th>6</th>\n",
       "      <td>5 bedroom villa for sale in Runda,VILLAS for S...</td>\n",
       "      <td>Runda, Westlands</td>\n",
       "      <td>5</td>\n",
       "      <td>115000000</td>\n",
       "      <td>VILLAS for SALE in RUNDA,5 bedroom villa for s...</td>\n",
       "      <td>5</td>\n",
       "    </tr>\n",
       "    <tr>\n",
       "      <th>...</th>\n",
       "      <td>...</td>\n",
       "      <td>...</td>\n",
       "      <td>...</td>\n",
       "      <td>...</td>\n",
       "      <td>...</td>\n",
       "      <td>...</td>\n",
       "    </tr>\n",
       "    <tr>\n",
       "      <th>1975</th>\n",
       "      <td>5 bedroom house for sale in Old Muthaiga,5bedr...</td>\n",
       "      <td>Naivasha Avenue, Old Muthaiga, Muthaiga</td>\n",
       "      <td>5</td>\n",
       "      <td>270000000</td>\n",
       "      <td>5bedroom Home For Sale,5 bedroom house for sal...</td>\n",
       "      <td>5</td>\n",
       "    </tr>\n",
       "    <tr>\n",
       "      <th>1976</th>\n",
       "      <td>5 bedroom townhouse for sale in Kileleshwa,5be...</td>\n",
       "      <td>Kileleshwa, Dagoretti North</td>\n",
       "      <td>5</td>\n",
       "      <td>60000000</td>\n",
       "      <td>5bedroom 60milion,5 bedroom townhouse for sale...</td>\n",
       "      <td>5</td>\n",
       "    </tr>\n",
       "    <tr>\n",
       "      <th>1977</th>\n",
       "      <td>5 bedroom house for sale in Karen,Amara Ridge.</td>\n",
       "      <td>7, Karen, Karen, Langata</td>\n",
       "      <td>5</td>\n",
       "      <td>150000000</td>\n",
       "      <td>Amara Ridge., 5 bedroom house for sale in Karen</td>\n",
       "      <td>5</td>\n",
       "    </tr>\n",
       "    <tr>\n",
       "      <th>1979</th>\n",
       "      <td>4 bedroom townhouse for sale in Lavington,4bed...</td>\n",
       "      <td>Lavington, Dagoretti North</td>\n",
       "      <td>4</td>\n",
       "      <td>25000000</td>\n",
       "      <td>4bedroom 25M,4 bedroom townhouse for sale in L...</td>\n",
       "      <td>4</td>\n",
       "    </tr>\n",
       "    <tr>\n",
       "      <th>1980</th>\n",
       "      <td>5 bedroom townhouse for sale in Lavington,ONE ...</td>\n",
       "      <td>Lavington, Dagoretti North</td>\n",
       "      <td>5</td>\n",
       "      <td>105000000</td>\n",
       "      <td>ONE OF A KIND LUXURY TOWNHOUSE - OLYMPIA GOLD ...</td>\n",
       "      <td>5</td>\n",
       "    </tr>\n",
       "  </tbody>\n",
       "</table>\n",
       "<p>1407 rows × 6 columns</p>\n",
       "</div>"
      ],
      "text/plain": [
       "                                                  title  \\\n",
       "0     4 bedroom townhouse for sale in Ruiru,Breathta...   \n",
       "2     5 bedroom townhouse for sale in Lavington,Mast...   \n",
       "3     4 bedroom house for sale in Runda,Beautiful an...   \n",
       "5     3 bedroom townhouse for sale in Gikambura,Thre...   \n",
       "6     5 bedroom villa for sale in Runda,VILLAS for S...   \n",
       "...                                                 ...   \n",
       "1975  5 bedroom house for sale in Old Muthaiga,5bedr...   \n",
       "1976  5 bedroom townhouse for sale in Kileleshwa,5be...   \n",
       "1977     5 bedroom house for sale in Karen,Amara Ridge.   \n",
       "1979  4 bedroom townhouse for sale in Lavington,4bed...   \n",
       "1980  5 bedroom townhouse for sale in Lavington,ONE ...   \n",
       "\n",
       "                                     Location details        Price  \\\n",
       "0                 Kenyatta Road, Ruiru, Ruiru       4     11550000   \n",
       "2                  Lavington, Dagoretti North       5     53000000   \n",
       "3                            Runda, Westlands       4     92000000   \n",
       "5                           Gikambura, Kikuyu       3      9000000   \n",
       "6                            Runda, Westlands       5    115000000   \n",
       "...                                       ...     ...          ...   \n",
       "1975  Naivasha Avenue, Old Muthaiga, Muthaiga      5     270000000   \n",
       "1976              Kileleshwa, Dagoretti North       5     60000000   \n",
       "1977                 7, Karen, Karen, Langata       5    150000000   \n",
       "1979               Lavington, Dagoretti North       4     25000000   \n",
       "1980               Lavington, Dagoretti North       5   105000000    \n",
       "\n",
       "                                            Description Bedrooms  \n",
       "0     Breathtaking modern Maisonettes and Bungalows ...        4  \n",
       "2     Masterful Design! Lavington Five Bedroom Townh...        5  \n",
       "3     Beautiful and specious four bedroom Stand-alon...        4  \n",
       "5     Three Bedroom All En Suite,3 bedroom townhouse...        3  \n",
       "6     VILLAS for SALE in RUNDA,5 bedroom villa for s...        5  \n",
       "...                                                 ...      ...  \n",
       "1975  5bedroom Home For Sale,5 bedroom house for sal...       5   \n",
       "1976  5bedroom 60milion,5 bedroom townhouse for sale...        5  \n",
       "1977    Amara Ridge., 5 bedroom house for sale in Karen        5  \n",
       "1979  4bedroom 25M,4 bedroom townhouse for sale in L...        4  \n",
       "1980  ONE OF A KIND LUXURY TOWNHOUSE - OLYMPIA GOLD ...        5  \n",
       "\n",
       "[1407 rows x 6 columns]"
      ]
     },
     "execution_count": 31,
     "metadata": {},
     "output_type": "execute_result"
    }
   ],
   "source": [
    "df2"
   ]
  },
  {
   "cell_type": "code",
   "execution_count": 32,
   "metadata": {},
   "outputs": [
    {
     "data": {
      "text/html": [
       "<div>\n",
       "<style scoped>\n",
       "    .dataframe tbody tr th:only-of-type {\n",
       "        vertical-align: middle;\n",
       "    }\n",
       "\n",
       "    .dataframe tbody tr th {\n",
       "        vertical-align: top;\n",
       "    }\n",
       "\n",
       "    .dataframe thead th {\n",
       "        text-align: right;\n",
       "    }\n",
       "</style>\n",
       "<table border=\"1\" class=\"dataframe\">\n",
       "  <thead>\n",
       "    <tr style=\"text-align: right;\">\n",
       "      <th></th>\n",
       "      <th>title</th>\n",
       "      <th>Location</th>\n",
       "      <th>details</th>\n",
       "      <th>Price</th>\n",
       "      <th>Description</th>\n",
       "      <th>Bedrooms</th>\n",
       "    </tr>\n",
       "  </thead>\n",
       "  <tbody>\n",
       "    <tr>\n",
       "      <th>0</th>\n",
       "      <td>4 bedroom townhouse for sale in Ruiru,Breathta...</td>\n",
       "      <td>Kenyatta Road, Ruiru, Ruiru</td>\n",
       "      <td>4</td>\n",
       "      <td>11550000</td>\n",
       "      <td>Breathtaking modern Maisonettes and Bungalows ...</td>\n",
       "      <td>4</td>\n",
       "    </tr>\n",
       "    <tr>\n",
       "      <th>2</th>\n",
       "      <td>5 bedroom townhouse for sale in Lavington,Mast...</td>\n",
       "      <td>Lavington, Dagoretti North</td>\n",
       "      <td>5</td>\n",
       "      <td>53000000</td>\n",
       "      <td>Masterful Design! Lavington Five Bedroom Townh...</td>\n",
       "      <td>5</td>\n",
       "    </tr>\n",
       "    <tr>\n",
       "      <th>3</th>\n",
       "      <td>4 bedroom house for sale in Runda,Beautiful an...</td>\n",
       "      <td>Runda, Westlands</td>\n",
       "      <td>4</td>\n",
       "      <td>92000000</td>\n",
       "      <td>Beautiful and specious four bedroom Stand-alon...</td>\n",
       "      <td>4</td>\n",
       "    </tr>\n",
       "    <tr>\n",
       "      <th>5</th>\n",
       "      <td>3 bedroom townhouse for sale in Gikambura,Thre...</td>\n",
       "      <td>Gikambura, Kikuyu</td>\n",
       "      <td>3</td>\n",
       "      <td>9000000</td>\n",
       "      <td>Three Bedroom All En Suite,3 bedroom townhouse...</td>\n",
       "      <td>3</td>\n",
       "    </tr>\n",
       "    <tr>\n",
       "      <th>6</th>\n",
       "      <td>5 bedroom villa for sale in Runda,VILLAS for S...</td>\n",
       "      <td>Runda, Westlands</td>\n",
       "      <td>5</td>\n",
       "      <td>115000000</td>\n",
       "      <td>VILLAS for SALE in RUNDA,5 bedroom villa for s...</td>\n",
       "      <td>5</td>\n",
       "    </tr>\n",
       "    <tr>\n",
       "      <th>...</th>\n",
       "      <td>...</td>\n",
       "      <td>...</td>\n",
       "      <td>...</td>\n",
       "      <td>...</td>\n",
       "      <td>...</td>\n",
       "      <td>...</td>\n",
       "    </tr>\n",
       "    <tr>\n",
       "      <th>1975</th>\n",
       "      <td>5 bedroom house for sale in Old Muthaiga,5bedr...</td>\n",
       "      <td>Naivasha Avenue, Old Muthaiga, Muthaiga</td>\n",
       "      <td>5</td>\n",
       "      <td>270000000</td>\n",
       "      <td>5bedroom Home For Sale,5 bedroom house for sal...</td>\n",
       "      <td>5</td>\n",
       "    </tr>\n",
       "    <tr>\n",
       "      <th>1976</th>\n",
       "      <td>5 bedroom townhouse for sale in Kileleshwa,5be...</td>\n",
       "      <td>Kileleshwa, Dagoretti North</td>\n",
       "      <td>5</td>\n",
       "      <td>60000000</td>\n",
       "      <td>5bedroom 60milion,5 bedroom townhouse for sale...</td>\n",
       "      <td>5</td>\n",
       "    </tr>\n",
       "    <tr>\n",
       "      <th>1977</th>\n",
       "      <td>5 bedroom house for sale in Karen,Amara Ridge.</td>\n",
       "      <td>7, Karen, Karen, Langata</td>\n",
       "      <td>5</td>\n",
       "      <td>150000000</td>\n",
       "      <td>Amara Ridge., 5 bedroom house for sale in Karen</td>\n",
       "      <td>5</td>\n",
       "    </tr>\n",
       "    <tr>\n",
       "      <th>1979</th>\n",
       "      <td>4 bedroom townhouse for sale in Lavington,4bed...</td>\n",
       "      <td>Lavington, Dagoretti North</td>\n",
       "      <td>4</td>\n",
       "      <td>25000000</td>\n",
       "      <td>4bedroom 25M,4 bedroom townhouse for sale in L...</td>\n",
       "      <td>4</td>\n",
       "    </tr>\n",
       "    <tr>\n",
       "      <th>1980</th>\n",
       "      <td>5 bedroom townhouse for sale in Lavington,ONE ...</td>\n",
       "      <td>Lavington, Dagoretti North</td>\n",
       "      <td>5</td>\n",
       "      <td>105000000</td>\n",
       "      <td>ONE OF A KIND LUXURY TOWNHOUSE - OLYMPIA GOLD ...</td>\n",
       "      <td>5</td>\n",
       "    </tr>\n",
       "  </tbody>\n",
       "</table>\n",
       "<p>1407 rows × 6 columns</p>\n",
       "</div>"
      ],
      "text/plain": [
       "                                                  title  \\\n",
       "0     4 bedroom townhouse for sale in Ruiru,Breathta...   \n",
       "2     5 bedroom townhouse for sale in Lavington,Mast...   \n",
       "3     4 bedroom house for sale in Runda,Beautiful an...   \n",
       "5     3 bedroom townhouse for sale in Gikambura,Thre...   \n",
       "6     5 bedroom villa for sale in Runda,VILLAS for S...   \n",
       "...                                                 ...   \n",
       "1975  5 bedroom house for sale in Old Muthaiga,5bedr...   \n",
       "1976  5 bedroom townhouse for sale in Kileleshwa,5be...   \n",
       "1977     5 bedroom house for sale in Karen,Amara Ridge.   \n",
       "1979  4 bedroom townhouse for sale in Lavington,4bed...   \n",
       "1980  5 bedroom townhouse for sale in Lavington,ONE ...   \n",
       "\n",
       "                                     Location details        Price  \\\n",
       "0                 Kenyatta Road, Ruiru, Ruiru       4     11550000   \n",
       "2                  Lavington, Dagoretti North       5     53000000   \n",
       "3                            Runda, Westlands       4     92000000   \n",
       "5                           Gikambura, Kikuyu       3      9000000   \n",
       "6                            Runda, Westlands       5    115000000   \n",
       "...                                       ...     ...          ...   \n",
       "1975  Naivasha Avenue, Old Muthaiga, Muthaiga      5     270000000   \n",
       "1976              Kileleshwa, Dagoretti North       5     60000000   \n",
       "1977                 7, Karen, Karen, Langata       5    150000000   \n",
       "1979               Lavington, Dagoretti North       4     25000000   \n",
       "1980               Lavington, Dagoretti North       5   105000000    \n",
       "\n",
       "                                            Description Bedrooms  \n",
       "0     Breathtaking modern Maisonettes and Bungalows ...        4  \n",
       "2     Masterful Design! Lavington Five Bedroom Townh...        5  \n",
       "3     Beautiful and specious four bedroom Stand-alon...        4  \n",
       "5     Three Bedroom All En Suite,3 bedroom townhouse...        3  \n",
       "6     VILLAS for SALE in RUNDA,5 bedroom villa for s...        5  \n",
       "...                                                 ...      ...  \n",
       "1975  5bedroom Home For Sale,5 bedroom house for sal...       5   \n",
       "1976  5bedroom 60milion,5 bedroom townhouse for sale...        5  \n",
       "1977    Amara Ridge., 5 bedroom house for sale in Karen        5  \n",
       "1979  4bedroom 25M,4 bedroom townhouse for sale in L...        4  \n",
       "1980  ONE OF A KIND LUXURY TOWNHOUSE - OLYMPIA GOLD ...        5  \n",
       "\n",
       "[1407 rows x 6 columns]"
      ]
     },
     "execution_count": 32,
     "metadata": {},
     "output_type": "execute_result"
    }
   ],
   "source": [
    "df2"
   ]
  },
  {
   "cell_type": "code",
   "execution_count": 37,
   "metadata": {},
   "outputs": [],
   "source": [
    "# !pip install geopy"
   ]
  },
  {
   "cell_type": "code",
   "execution_count": 35,
   "metadata": {},
   "outputs": [],
   "source": [
    "# Get lat and long \n",
    "from geopy.extra.rate_limiter import RateLimiter\n",
    "from geopy.geocoders import Nominatim\n",
    "\n",
    "locator = Nominatim(user_agent='myGeocoder')\n",
    "location = locator.geocode('Kenyatta Road, Ruiru, Ruiru\t')"
   ]
  },
  {
   "cell_type": "code",
   "execution_count": 36,
   "metadata": {},
   "outputs": [
    {
     "data": {
      "text/plain": [
       "(-1.1444599000000002, 36.9671042720111)"
      ]
     },
     "execution_count": 36,
     "metadata": {},
     "output_type": "execute_result"
    }
   ],
   "source": [
    "location.latitude, location.longitude"
   ]
  },
  {
   "cell_type": "code",
   "execution_count": 97,
   "metadata": {},
   "outputs": [
    {
     "data": {
      "text/plain": [
       "array(['4', '5', '3', '6', '7', '2', '3,2', ' 4', '1,1', '4,3', '8', '1',\n",
       "       '4 ', '2,3', '1,3', '1,5', '2114,5', '10', '5 ', '3 ', '2,6',\n",
       "       '5,5', '5, 5', '2,5', '6,4', ' 3', ' 5', '1,6', '4500,4', '4,5',\n",
       "       '1,2', '4600,5', '1,9', '2,4', '9', ' 3,3', '4,4', '1,4',\n",
       "       '10000 ha,6', '1000,4'], dtype=object)"
      ]
     },
     "execution_count": 97,
     "metadata": {},
     "output_type": "execute_result"
    }
   ],
   "source": [
    "df2['Bedrooms'].unique()"
   ]
  },
  {
   "cell_type": "code",
   "execution_count": 88,
   "metadata": {},
   "outputs": [
    {
     "name": "stderr",
     "output_type": "stream",
     "text": [
      "<ipython-input-88-3f2b133829c0>:1: FutureWarning: The default value of regex will change from True to False in a future version.\n",
      "  df2['Price'] = df['Price'].str.replace('P.O.A','0')\n",
      "<ipython-input-88-3f2b133829c0>:1: SettingWithCopyWarning: \n",
      "A value is trying to be set on a copy of a slice from a DataFrame.\n",
      "Try using .loc[row_indexer,col_indexer] = value instead\n",
      "\n",
      "See the caveats in the documentation: https://pandas.pydata.org/pandas-docs/stable/user_guide/indexing.html#returning-a-view-versus-a-copy\n",
      "  df2['Price'] = df['Price'].str.replace('P.O.A','0')\n"
     ]
    }
   ],
   "source": [
    "df2['Price'] = df['Price'].str.replace('P.O.A','0')"
   ]
  },
  {
   "cell_type": "code",
   "execution_count": 98,
   "metadata": {},
   "outputs": [],
   "source": [
    "#df2['Bedrooms']= pd.to_numeric(df2['Bedrooms'])"
   ]
  },
  {
   "cell_type": "code",
   "execution_count": 96,
   "metadata": {},
   "outputs": [
    {
     "name": "stderr",
     "output_type": "stream",
     "text": [
      "<ipython-input-96-638e46ce6a37>:1: SettingWithCopyWarning: \n",
      "A value is trying to be set on a copy of a slice from a DataFrame.\n",
      "Try using .loc[row_indexer,col_indexer] = value instead\n",
      "\n",
      "See the caveats in the documentation: https://pandas.pydata.org/pandas-docs/stable/user_guide/indexing.html#returning-a-view-versus-a-copy\n",
      "  df2['Bedrooms'] = df2['Bedrooms'].str.replace(' ac','')\n"
     ]
    }
   ],
   "source": [
    "df2['Bedrooms'] = df2['Bedrooms'].str.replace(' ac','')"
   ]
  },
  {
   "cell_type": "code",
   "execution_count": 113,
   "metadata": {},
   "outputs": [
    {
     "name": "stderr",
     "output_type": "stream",
     "text": [
      "C:\\Users\\ronal\\anaconda3\\lib\\site-packages\\seaborn\\distributions.py:2551: FutureWarning: `distplot` is a deprecated function and will be removed in a future version. Please adapt your code to use either `displot` (a figure-level function with similar flexibility) or `histplot` (an axes-level function for histograms).\n",
      "  warnings.warn(msg, FutureWarning)\n"
     ]
    },
    {
     "data": {
      "text/plain": [
       "<AxesSubplot:xlabel='Price', ylabel='Density'>"
      ]
     },
     "execution_count": 113,
     "metadata": {},
     "output_type": "execute_result"
    },
    {
     "data": {
      "image/png": "[encoded data removed]",
      "text/plain": [
       "<Figure size 432x288 with 1 Axes>"
      ]
     },
     "metadata": {
      "needs_background": "light"
     },
     "output_type": "display_data"
    }
   ],
   "source": [
    "# Distribution pf prices \n",
    "sns.distplot(df2['Price'])"
   ]
  }
 ],
 "metadata": {
  "kernelspec": {
   "display_name": "Python 3.10.5 64-bit (system)",
   "language": "python",
   "name": "python3"
  },
  "language_info": {
   "codemirror_mode": {
    "name": "ipython",
    "version": 3
   },
   "file_extension": ".py",
   "mimetype": "text/x-python",
   "name": "python",
   "nbconvert_exporter": "python",
   "pygments_lexer": "ipython3",
   "version": "3.10.5"
  },
  "orig_nbformat": 4,
  "vscode": {
   "interpreter": {
    "hash": "542f72b8e062e5c18d9730ea9688a97b001698ed634295b79a4ee3e470a4fe84"
   }
  }
 },
 "nbformat": 4,
 "nbformat_minor": 2
}
